{
 "cells": [
  {
   "cell_type": "code",
   "execution_count": 3,
   "id": "cf2fdd03",
   "metadata": {},
   "outputs": [
    {
     "name": "stdout",
     "output_type": "stream",
     "text": [
      "mlflow not found, installing via pip into the current environment...\n",
      "mlflow installed and imported.\n",
      "mlflow version: 3.5.1\n",
      "mlflow installed and imported.\n",
      "mlflow version: 3.5.1\n"
     ]
    }
   ],
   "source": [
    "# Ensure mlflow is available in the current kernel.\n",
    "import importlib, sys, subprocess\n",
    "try:\n",
    "    import mlflow\n",
    "    print(\"mlflow is already installed.\")\n",
    "except ModuleNotFoundError:\n",
    "    print(\"mlflow not found, installing via pip into the current environment...\")\n",
    "    subprocess.check_call([sys.executable, '-m', 'pip', 'install', 'mlflow'])\n",
    "    import mlflow\n",
    "    print(\"mlflow installed and imported.\")\n",
    "# Optional: check versions\n",
    "try:\n",
    "    print('mlflow version:', mlflow.__version__)\n",
    "except Exception:\n",
    "    pass"
   ]
  },
  {
   "cell_type": "code",
   "execution_count": 5,
   "id": "4e65d510",
   "metadata": {},
   "outputs": [
    {
     "name": "stderr",
     "output_type": "stream",
     "text": [
      "2025/10/28 17:10:40 INFO mlflow.tracking.fluent: Experiment with name 'MLFlow Quickstart' does not exist. Creating a new experiment.\n"
     ]
    },
    {
     "data": {
      "text/plain": [
       "<Experiment: artifact_location='mlflow-artifacts:/125898863384105450', creation_time=1761693040475, experiment_id='125898863384105450', last_update_time=1761693040475, lifecycle_stage='active', name='MLFlow Quickstart', tags={}>"
      ]
     },
     "execution_count": 5,
     "metadata": {},
     "output_type": "execute_result"
    }
   ],
   "source": [
    "from mlflow.models import infer_signature\n",
    "import pandas as pd\n",
    "from sklearn import datasets\n",
    "from sklearn.model_selection import train_test_split\n",
    "from sklearn.linear_model import LogisticRegression\n",
    "from sklearn.metrics import accuracy_score\n",
    "\n",
    "X, y = datasets.load_iris(return_X_y=True)\n",
    "X_train, X_test, y_train, y_test = train_test_split(X, y, test_size=0.2, random_state=42)\n",
    "\n",
    "params = {\n",
    "    'max_iter': 200,\n",
    "    'solver': 'lbfgs',\n",
    "    'random_state': 8888\n",
    "}\n",
    "\n",
    "mlflow.set_tracking_uri(uri=\"http://127.0.0.1:5000\")\n",
    "mlflow.set_experiment(\"MLFlow Quickstart\")"
   ]
  },
  {
   "cell_type": "code",
   "execution_count": 7,
   "id": "42cd2f7c",
   "metadata": {},
   "outputs": [
    {
     "name": "stderr",
     "output_type": "stream",
     "text": [
      "c:\\Users\\priet\\OneDrive\\Documents\\GitHub\\MLOpsEq15\\.venv\\Lib\\site-packages\\tqdm\\auto.py:21: TqdmWarning: IProgress not found. Please update jupyter and ipywidgets. See https://ipywidgets.readthedocs.io/en/stable/user_install.html\n",
      "  from .autonotebook import tqdm as notebook_tqdm\n",
      "Downloading artifacts: 100%|██████████| 7/7 [00:00<00:00, 1369.41it/s]\n",
      "\n",
      "Successfully registered model 'tracking-quickstart'.\n",
      "2025/10/28 17:15:10 INFO mlflow.store.model_registry.abstract_store: Waiting up to 300 seconds for model version to finish creation. Model name: tracking-quickstart, version 1\n",
      "Successfully registered model 'tracking-quickstart'.\n",
      "2025/10/28 17:15:10 INFO mlflow.store.model_registry.abstract_store: Waiting up to 300 seconds for model version to finish creation. Model name: tracking-quickstart, version 1\n"
     ]
    },
    {
     "name": "stdout",
     "output_type": "stream",
     "text": [
      "🏃 View run awesome-hawk-964 at: http://127.0.0.1:5000/#/experiments/125898863384105450/runs/ceb77549f5bb44d6a87fc3b2ced13fa7\n",
      "🧪 View experiment at: http://127.0.0.1:5000/#/experiments/125898863384105450\n"
     ]
    },
    {
     "name": "stderr",
     "output_type": "stream",
     "text": [
      "Created version '1' of model 'tracking-quickstart'.\n"
     ]
    }
   ],
   "source": [
    "with mlflow.start_run():\n",
    "\n",
    "    lr = LogisticRegression(**params)\n",
    "    lr.fit(X_train, y_train)\n",
    "    y_pred = lr.predict(X_test)\n",
    "    accuracy = accuracy_score(y_test, y_pred)\n",
    "\n",
    "    mlflow.log_params(params)\n",
    "    mlflow.log_metric(\"accuracy\", accuracy) \n",
    "\n",
    "    signature = infer_signature(X_train, lr.predict(X_train))\n",
    "\n",
    "    model_info = mlflow.sklearn.log_model(\n",
    "        sk_model=lr,\n",
    "        name=\"iris model\",\n",
    "        signature=signature,\n",
    "        input_example=X_train,\n",
    "        registered_model_name=\"tracking-quickstart\"\n",
    "    )\n",
    "\n",
    "    mlflow.set_logged_model_tags(\n",
    "        model_info.model_id,\n",
    "        {\n",
    "            \"Training Info\": \"Basic LR model for iris data\",\n",
    "        \n",
    "        }\n",
    "    )"
   ]
  }
 ],
 "metadata": {
  "kernelspec": {
   "display_name": ".venv",
   "language": "python",
   "name": "python3"
  },
  "language_info": {
   "codemirror_mode": {
    "name": "ipython",
    "version": 3
   },
   "file_extension": ".py",
   "mimetype": "text/x-python",
   "name": "python",
   "nbconvert_exporter": "python",
   "pygments_lexer": "ipython3",
   "version": "3.12.4"
  }
 },
 "nbformat": 4,
 "nbformat_minor": 5
}
